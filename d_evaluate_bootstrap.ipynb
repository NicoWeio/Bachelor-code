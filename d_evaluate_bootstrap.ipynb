{
 "cells": [
  {
   "cell_type": "code",
   "execution_count": 23,
   "metadata": {},
   "outputs": [],
   "source": [
    "import matplotlib.pyplot as plt\n",
    "import numpy as np\n",
    "import d_evaluate\n",
    "bs_bundle = d_evaluate.load_bootstrap()"
   ]
  },
  {
   "cell_type": "code",
   "execution_count": 24,
   "metadata": {},
   "outputs": [],
   "source": [
    "from x_config import config  # TODO!\n",
    "NUM_BINS = config['num_bins']\n",
    "BINS = np.arange(NUM_BINS)\n"
   ]
  },
  {
   "cell_type": "code",
   "execution_count": 30,
   "metadata": {},
   "outputs": [],
   "source": [
    "def plot_spectrum(true_spectrum, pred_spectrum, BINS, save=False):\n",
    "    fig, axs = plt.subplots(2, 1, figsize=(10, 6))\n",
    "\n",
    "    # plt.hist(BINS[:-1], BINS, weights=spectrum_from_labels(labels), color='red', label='true class')\n",
    "\n",
    "    axs[0].plot(BINS, true_spectrum, drawstyle='steps-mid', color='red', linewidth=2, label='true class')\n",
    "    # axs[0].plot(BINS, spectrum_from_labels(predicted_labels), drawstyle='steps-mid', color='royalblue', label='predicted class')\n",
    "    \n",
    "    if isinstance(pred_spectrum, list):\n",
    "        for i, single_pred_spectrum in enumerate(pred_spectrum):\n",
    "            axs[0].plot(BINS, single_pred_spectrum, drawstyle='steps-mid', color='green', alpha=0.5, zorder=10, label=('predicted probas' if i == 0 else None))\n",
    "    \n",
    "    axs[0].set_ylabel('count')\n",
    "    axs[0].set_yscale('log')\n",
    "\n",
    "    # axs[1].bar(BINS, (pred_spectrum - true_spectrum) / true_spectrum, label=\"relative deviation\")\n",
    "\n",
    "    for ax in axs:\n",
    "        ax.set_xlabel('class')\n",
    "        ax.set_xticks(BINS)\n",
    "        ax.grid()\n",
    "        ax.legend()\n",
    "    \n",
    "    return fig"
   ]
  },
  {
   "cell_type": "code",
   "execution_count": 31,
   "metadata": {},
   "outputs": [
    {
     "data": {
      "text/plain": [
       "((487340,), (487340, 10))"
      ]
     },
     "execution_count": 31,
     "metadata": {},
     "output_type": "execute_result"
    }
   ],
   "source": [
    "true_labels, predicted_probas = bs_bundle[0] # TEST\n",
    "\n",
    "true_labels.shape, predicted_probas.shape"
   ]
  },
  {
   "cell_type": "code",
   "execution_count": 32,
   "metadata": {},
   "outputs": [
    {
     "name": "stderr",
     "output_type": "stream",
     "text": [
      "No artists with labels found to put in legend.  Note that artists whose label start with an underscore are ignored when legend() is called with no argument.\n"
     ]
    },
    {
     "data": {
      "image/png": "[encoded data removed]",
      "text/plain": [
       "<Figure size 720x432 with 2 Axes>"
      ]
     },
     "metadata": {
      "needs_background": "light"
     },
     "output_type": "display_data"
    }
   ],
   "source": [
    "true_spectrum = d_evaluate.spectrum_from_labels(true_labels)\n",
    "# pred_spectrum = d_evaluate.spectrum_from_probas(predicted_probas)\n",
    "\n",
    "pred_spectra = [d_evaluate.spectrum_from_probas(single_bs[1]) for single_bs in bs_bundle]\n",
    "\n",
    "plot_spectrum(true_spectrum, pred_spectra, BINS, save=False);"
   ]
  }
 ],
 "metadata": {
  "kernelspec": {
   "display_name": "Python 3.9.12 ('dsea')",
   "language": "python",
   "name": "python3"
  },
  "language_info": {
   "codemirror_mode": {
    "name": "ipython",
    "version": 3
   },
   "file_extension": ".py",
   "mimetype": "text/x-python",
   "name": "python",
   "nbconvert_exporter": "python",
   "pygments_lexer": "ipython3",
   "version": "3.9.12"
  },
  "orig_nbformat": 4,
  "vscode": {
   "interpreter": {
    "hash": "8302970b9193ca5caea6545e500a3498d00ef5937330c7ec55d44f1fd20fd525"
   }
  }
 },
 "nbformat": 4,
 "nbformat_minor": 2
}
