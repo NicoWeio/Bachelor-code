{
 "cells": [
  {
   "cell_type": "code",
   "execution_count": 62,
   "metadata": {},
   "outputs": [
    {
     "data": {
      "text/plain": [
       "'15 runs'"
      ]
     },
     "execution_count": 62,
     "metadata": {},
     "output_type": "execute_result"
    }
   ],
   "source": [
    "import wandb\n",
    "api = wandb.Api()\n",
    "\n",
    "sweep_id = 'zftou44c'\n",
    "sweep = api.sweep(f\"nicoweio/dsea-corn/{sweep_id}\")\n",
    "\n",
    "f\"{len(sweep.runs)} runs\""
   ]
  },
  {
   "cell_type": "code",
   "execution_count": 63,
   "metadata": {},
   "outputs": [
    {
     "data": {
      "text/plain": [
       "'running'"
      ]
     },
     "execution_count": 63,
     "metadata": {},
     "output_type": "execute_result"
    }
   ],
   "source": [
    "sweep.runs[0].state"
   ]
  },
  {
   "cell_type": "code",
   "execution_count": 64,
   "metadata": {},
   "outputs": [
    {
     "name": "stdout",
     "output_type": "stream",
     "text": [
      "Best run treasured-sweep-4 with 0.0068 wasserstein distance\n"
     ]
    },
    {
     "data": {
      "text/plain": [
       "'13 finished runs'"
      ]
     },
     "execution_count": 64,
     "metadata": {},
     "output_type": "execute_result"
    }
   ],
   "source": [
    "# filter successful runs\n",
    "runs = filter(lambda run: run.state == 'finished', sweep.runs)\n",
    "\n",
    "runs = sorted(runs,\n",
    "  key=lambda run: run.summary['test/wd_mean'], reverse=False)\n",
    "wd_test = runs[0].summary['test/wd_mean']\n",
    "print(f\"Best run {runs[0].name} with {wd_test:.4f} wasserstein distance\")\n",
    "\n",
    "f\"{len(runs)} finished runs\""
   ]
  },
  {
   "cell_type": "code",
   "execution_count": 66,
   "metadata": {},
   "outputs": [],
   "source": [
    "import seaborn as sns\n",
    "import pandas as pd\n",
    "\n",
    "df = pd.DataFrame([dict(run.summary) | dict(run.config) for run in runs])\n",
    "# df"
   ]
  },
  {
   "cell_type": "code",
   "execution_count": 68,
   "metadata": {},
   "outputs": [
    {
     "data": {
      "text/plain": [
       "<AxesSubplot:xlabel='batch_size', ylabel='test/wd_mean'>"
      ]
     },
     "execution_count": 68,
     "metadata": {},
     "output_type": "execute_result"
    },
    {
     "data": {
      "image/png": "[encoded data removed]",
      "text/plain": [
       "<Figure size 432x288 with 1 Axes>"
      ]
     },
     "metadata": {
      "needs_background": "light"
     },
     "output_type": "display_data"
    }
   ],
   "source": [
    "# sns.violinplot(data=df, y='test/wd_mean', x='batch_size')\n",
    "sns.boxplot(data=df, y='test/wd_mean', x='batch_size')"
   ]
  },
  {
   "cell_type": "code",
   "execution_count": 54,
   "metadata": {},
   "outputs": [
    {
     "data": {
      "text/html": [
       "<div>\n",
       "<style scoped>\n",
       "    .dataframe tbody tr th:only-of-type {\n",
       "        vertical-align: middle;\n",
       "    }\n",
       "\n",
       "    .dataframe tbody tr th {\n",
       "        vertical-align: top;\n",
       "    }\n",
       "\n",
       "    .dataframe thead th {\n",
       "        text-align: right;\n",
       "    }\n",
       "</style>\n",
       "<table border=\"1\" class=\"dataframe\">\n",
       "  <thead>\n",
       "    <tr style=\"text-align: right;\">\n",
       "      <th></th>\n",
       "      <th>test/rmse_single</th>\n",
       "      <th>test/accuracy_single</th>\n",
       "      <th>test/chi2_single</th>\n",
       "      <th>test/jaccard_single</th>\n",
       "      <th>test/wd_single</th>\n",
       "      <th>alpha</th>\n",
       "      <th>nrows</th>\n",
       "      <th>epsilon</th>\n",
       "      <th>J_factor</th>\n",
       "      <th>num_bins</th>\n",
       "      <th>...</th>\n",
       "      <th>num_epochs</th>\n",
       "      <th>num_workers</th>\n",
       "      <th>fixweighting</th>\n",
       "      <th>hidden_units</th>\n",
       "      <th>learning_rate</th>\n",
       "      <th>stratify_test</th>\n",
       "      <th>stratify_train</th>\n",
       "      <th>crossval_n_splits</th>\n",
       "      <th>num_dsea_iterations</th>\n",
       "      <th>num_bootstrap_iterations</th>\n",
       "    </tr>\n",
       "  </thead>\n",
       "  <tbody>\n",
       "    <tr>\n",
       "      <th>0</th>\n",
       "      <td>0.020884</td>\n",
       "      <td>0.30282</td>\n",
       "      <td>0.048540</td>\n",
       "      <td>0.178425</td>\n",
       "      <td>0.010972</td>\n",
       "      <td>0</td>\n",
       "      <td>500000</td>\n",
       "      <td>3.608633e-03</td>\n",
       "      <td>10</td>\n",
       "      <td>10</td>\n",
       "      <td>...</td>\n",
       "      <td>12</td>\n",
       "      <td>48</td>\n",
       "      <td>always</td>\n",
       "      <td>[120, 240, 120, 12]</td>\n",
       "      <td>0.000848</td>\n",
       "      <td>False</td>\n",
       "      <td>False</td>\n",
       "      <td>10</td>\n",
       "      <td>20</td>\n",
       "      <td>50</td>\n",
       "    </tr>\n",
       "    <tr>\n",
       "      <th>1</th>\n",
       "      <td>0.017659</td>\n",
       "      <td>0.31962</td>\n",
       "      <td>0.029136</td>\n",
       "      <td>0.190207</td>\n",
       "      <td>0.004722</td>\n",
       "      <td>0</td>\n",
       "      <td>500000</td>\n",
       "      <td>3.608633e-03</td>\n",
       "      <td>10</td>\n",
       "      <td>10</td>\n",
       "      <td>...</td>\n",
       "      <td>12</td>\n",
       "      <td>48</td>\n",
       "      <td>always</td>\n",
       "      <td>[120, 240, 120, 12]</td>\n",
       "      <td>0.000848</td>\n",
       "      <td>False</td>\n",
       "      <td>False</td>\n",
       "      <td>10</td>\n",
       "      <td>20</td>\n",
       "      <td>50</td>\n",
       "    </tr>\n",
       "    <tr>\n",
       "      <th>2</th>\n",
       "      <td>0.016322</td>\n",
       "      <td>0.31662</td>\n",
       "      <td>0.020778</td>\n",
       "      <td>0.188086</td>\n",
       "      <td>0.007844</td>\n",
       "      <td>0</td>\n",
       "      <td>500000</td>\n",
       "      <td>3.608633e-03</td>\n",
       "      <td>10</td>\n",
       "      <td>10</td>\n",
       "      <td>...</td>\n",
       "      <td>12</td>\n",
       "      <td>48</td>\n",
       "      <td>always</td>\n",
       "      <td>[120, 240, 120, 12]</td>\n",
       "      <td>0.000848</td>\n",
       "      <td>False</td>\n",
       "      <td>False</td>\n",
       "      <td>10</td>\n",
       "      <td>20</td>\n",
       "      <td>50</td>\n",
       "    </tr>\n",
       "    <tr>\n",
       "      <th>3</th>\n",
       "      <td>0.019233</td>\n",
       "      <td>0.30768</td>\n",
       "      <td>0.031905</td>\n",
       "      <td>0.181810</td>\n",
       "      <td>0.004192</td>\n",
       "      <td>0</td>\n",
       "      <td>500000</td>\n",
       "      <td>3.608633e-03</td>\n",
       "      <td>10</td>\n",
       "      <td>10</td>\n",
       "      <td>...</td>\n",
       "      <td>12</td>\n",
       "      <td>48</td>\n",
       "      <td>always</td>\n",
       "      <td>[120, 240, 120, 12]</td>\n",
       "      <td>0.000848</td>\n",
       "      <td>False</td>\n",
       "      <td>False</td>\n",
       "      <td>10</td>\n",
       "      <td>20</td>\n",
       "      <td>50</td>\n",
       "    </tr>\n",
       "    <tr>\n",
       "      <th>4</th>\n",
       "      <td>0.017097</td>\n",
       "      <td>0.31952</td>\n",
       "      <td>0.021771</td>\n",
       "      <td>0.190136</td>\n",
       "      <td>0.006006</td>\n",
       "      <td>0</td>\n",
       "      <td>500000</td>\n",
       "      <td>3.608633e-03</td>\n",
       "      <td>10</td>\n",
       "      <td>10</td>\n",
       "      <td>...</td>\n",
       "      <td>12</td>\n",
       "      <td>48</td>\n",
       "      <td>always</td>\n",
       "      <td>[120, 240, 120, 12]</td>\n",
       "      <td>0.000848</td>\n",
       "      <td>False</td>\n",
       "      <td>False</td>\n",
       "      <td>10</td>\n",
       "      <td>20</td>\n",
       "      <td>50</td>\n",
       "    </tr>\n",
       "    <tr>\n",
       "      <th>...</th>\n",
       "      <td>...</td>\n",
       "      <td>...</td>\n",
       "      <td>...</td>\n",
       "      <td>...</td>\n",
       "      <td>...</td>\n",
       "      <td>...</td>\n",
       "      <td>...</td>\n",
       "      <td>...</td>\n",
       "      <td>...</td>\n",
       "      <td>...</td>\n",
       "      <td>...</td>\n",
       "      <td>...</td>\n",
       "      <td>...</td>\n",
       "      <td>...</td>\n",
       "      <td>...</td>\n",
       "      <td>...</td>\n",
       "      <td>...</td>\n",
       "      <td>...</td>\n",
       "      <td>...</td>\n",
       "      <td>...</td>\n",
       "      <td>...</td>\n",
       "    </tr>\n",
       "    <tr>\n",
       "      <th>85</th>\n",
       "      <td>0.027447</td>\n",
       "      <td>0.30764</td>\n",
       "      <td>0.080216</td>\n",
       "      <td>0.181782</td>\n",
       "      <td>0.014042</td>\n",
       "      <td>0</td>\n",
       "      <td>500000</td>\n",
       "      <td>1.570501e-10</td>\n",
       "      <td>10</td>\n",
       "      <td>10</td>\n",
       "      <td>...</td>\n",
       "      <td>9</td>\n",
       "      <td>48</td>\n",
       "      <td>always</td>\n",
       "      <td>[120, 240, 120, 12]</td>\n",
       "      <td>0.000892</td>\n",
       "      <td>False</td>\n",
       "      <td>False</td>\n",
       "      <td>10</td>\n",
       "      <td>20</td>\n",
       "      <td>50</td>\n",
       "    </tr>\n",
       "    <tr>\n",
       "      <th>86</th>\n",
       "      <td>0.030075</td>\n",
       "      <td>0.30598</td>\n",
       "      <td>0.087753</td>\n",
       "      <td>0.180624</td>\n",
       "      <td>0.014950</td>\n",
       "      <td>0</td>\n",
       "      <td>500000</td>\n",
       "      <td>1.570501e-10</td>\n",
       "      <td>10</td>\n",
       "      <td>10</td>\n",
       "      <td>...</td>\n",
       "      <td>9</td>\n",
       "      <td>48</td>\n",
       "      <td>always</td>\n",
       "      <td>[120, 240, 120, 12]</td>\n",
       "      <td>0.000892</td>\n",
       "      <td>False</td>\n",
       "      <td>False</td>\n",
       "      <td>10</td>\n",
       "      <td>20</td>\n",
       "      <td>50</td>\n",
       "    </tr>\n",
       "    <tr>\n",
       "      <th>87</th>\n",
       "      <td>0.030042</td>\n",
       "      <td>0.31052</td>\n",
       "      <td>0.109754</td>\n",
       "      <td>0.183796</td>\n",
       "      <td>0.014614</td>\n",
       "      <td>0</td>\n",
       "      <td>500000</td>\n",
       "      <td>1.570501e-10</td>\n",
       "      <td>10</td>\n",
       "      <td>10</td>\n",
       "      <td>...</td>\n",
       "      <td>9</td>\n",
       "      <td>48</td>\n",
       "      <td>always</td>\n",
       "      <td>[120, 240, 120, 12]</td>\n",
       "      <td>0.000892</td>\n",
       "      <td>False</td>\n",
       "      <td>False</td>\n",
       "      <td>10</td>\n",
       "      <td>20</td>\n",
       "      <td>50</td>\n",
       "    </tr>\n",
       "    <tr>\n",
       "      <th>88</th>\n",
       "      <td>0.023923</td>\n",
       "      <td>0.31542</td>\n",
       "      <td>0.060444</td>\n",
       "      <td>0.187240</td>\n",
       "      <td>0.012585</td>\n",
       "      <td>0</td>\n",
       "      <td>500000</td>\n",
       "      <td>1.570501e-10</td>\n",
       "      <td>10</td>\n",
       "      <td>10</td>\n",
       "      <td>...</td>\n",
       "      <td>9</td>\n",
       "      <td>48</td>\n",
       "      <td>always</td>\n",
       "      <td>[120, 240, 120, 12]</td>\n",
       "      <td>0.000892</td>\n",
       "      <td>False</td>\n",
       "      <td>False</td>\n",
       "      <td>10</td>\n",
       "      <td>20</td>\n",
       "      <td>50</td>\n",
       "    </tr>\n",
       "    <tr>\n",
       "      <th>89</th>\n",
       "      <td>0.013678</td>\n",
       "      <td>0.32518</td>\n",
       "      <td>0.024873</td>\n",
       "      <td>0.194158</td>\n",
       "      <td>0.010135</td>\n",
       "      <td>0</td>\n",
       "      <td>500000</td>\n",
       "      <td>1.570501e-10</td>\n",
       "      <td>10</td>\n",
       "      <td>10</td>\n",
       "      <td>...</td>\n",
       "      <td>9</td>\n",
       "      <td>48</td>\n",
       "      <td>always</td>\n",
       "      <td>[120, 240, 120, 12]</td>\n",
       "      <td>0.000892</td>\n",
       "      <td>False</td>\n",
       "      <td>False</td>\n",
       "      <td>10</td>\n",
       "      <td>20</td>\n",
       "      <td>50</td>\n",
       "    </tr>\n",
       "  </tbody>\n",
       "</table>\n",
       "<p>90 rows × 22 columns</p>\n",
       "</div>"
      ],
      "text/plain": [
       "    test/rmse_single  test/accuracy_single  test/chi2_single  \\\n",
       "0           0.020884               0.30282          0.048540   \n",
       "1           0.017659               0.31962          0.029136   \n",
       "2           0.016322               0.31662          0.020778   \n",
       "3           0.019233               0.30768          0.031905   \n",
       "4           0.017097               0.31952          0.021771   \n",
       "..               ...                   ...               ...   \n",
       "85          0.027447               0.30764          0.080216   \n",
       "86          0.030075               0.30598          0.087753   \n",
       "87          0.030042               0.31052          0.109754   \n",
       "88          0.023923               0.31542          0.060444   \n",
       "89          0.013678               0.32518          0.024873   \n",
       "\n",
       "    test/jaccard_single  test/wd_single  alpha   nrows       epsilon  \\\n",
       "0              0.178425        0.010972      0  500000  3.608633e-03   \n",
       "1              0.190207        0.004722      0  500000  3.608633e-03   \n",
       "2              0.188086        0.007844      0  500000  3.608633e-03   \n",
       "3              0.181810        0.004192      0  500000  3.608633e-03   \n",
       "4              0.190136        0.006006      0  500000  3.608633e-03   \n",
       "..                  ...             ...    ...     ...           ...   \n",
       "85             0.181782        0.014042      0  500000  1.570501e-10   \n",
       "86             0.180624        0.014950      0  500000  1.570501e-10   \n",
       "87             0.183796        0.014614      0  500000  1.570501e-10   \n",
       "88             0.187240        0.012585      0  500000  1.570501e-10   \n",
       "89             0.194158        0.010135      0  500000  1.570501e-10   \n",
       "\n",
       "    J_factor  num_bins  ...  num_epochs  num_workers  fixweighting  \\\n",
       "0         10        10  ...          12           48        always   \n",
       "1         10        10  ...          12           48        always   \n",
       "2         10        10  ...          12           48        always   \n",
       "3         10        10  ...          12           48        always   \n",
       "4         10        10  ...          12           48        always   \n",
       "..       ...       ...  ...         ...          ...           ...   \n",
       "85        10        10  ...           9           48        always   \n",
       "86        10        10  ...           9           48        always   \n",
       "87        10        10  ...           9           48        always   \n",
       "88        10        10  ...           9           48        always   \n",
       "89        10        10  ...           9           48        always   \n",
       "\n",
       "           hidden_units learning_rate stratify_test  stratify_train  \\\n",
       "0   [120, 240, 120, 12]      0.000848         False           False   \n",
       "1   [120, 240, 120, 12]      0.000848         False           False   \n",
       "2   [120, 240, 120, 12]      0.000848         False           False   \n",
       "3   [120, 240, 120, 12]      0.000848         False           False   \n",
       "4   [120, 240, 120, 12]      0.000848         False           False   \n",
       "..                  ...           ...           ...             ...   \n",
       "85  [120, 240, 120, 12]      0.000892         False           False   \n",
       "86  [120, 240, 120, 12]      0.000892         False           False   \n",
       "87  [120, 240, 120, 12]      0.000892         False           False   \n",
       "88  [120, 240, 120, 12]      0.000892         False           False   \n",
       "89  [120, 240, 120, 12]      0.000892         False           False   \n",
       "\n",
       "    crossval_n_splits  num_dsea_iterations  num_bootstrap_iterations  \n",
       "0                  10                   20                        50  \n",
       "1                  10                   20                        50  \n",
       "2                  10                   20                        50  \n",
       "3                  10                   20                        50  \n",
       "4                  10                   20                        50  \n",
       "..                ...                  ...                       ...  \n",
       "85                 10                   20                        50  \n",
       "86                 10                   20                        50  \n",
       "87                 10                   20                        50  \n",
       "88                 10                   20                        50  \n",
       "89                 10                   20                        50  \n",
       "\n",
       "[90 rows x 22 columns]"
      ]
     },
     "execution_count": 54,
     "metadata": {},
     "output_type": "execute_result"
    }
   ],
   "source": [
    "# sns.boxplot(data=df, y='test/wd_all', x='batch_size')\n",
    "\n",
    "# Each run has multiple values for metrics like wd_all\n",
    "# Create a new dataframe with one row per *metric*\n",
    "# The columns shall get the suffix '_single', e.g. wd_all_single\n",
    "\n",
    "data_list = []\n",
    "for run in runs:\n",
    "    metric_keys = [key for key in run.summary.keys() if key.endswith('_all')]\n",
    "    metric_lengths = [len(run.summary[key]) for key in metric_keys]\n",
    "    assert len(set(metric_lengths)) == 1, \"Not all metrics have same length\"\n",
    "    for i in range(metric_lengths[0]):\n",
    "        data = {}\n",
    "        for key in metric_keys:\n",
    "            newkey = key.replace('_all', '_single')\n",
    "            data[newkey] = run.summary[key][i]\n",
    "        data_list.append(\n",
    "            data | dict(run.config)\n",
    "        )\n",
    "\n",
    "df_single = pd.DataFrame(data_list)"
   ]
  },
  {
   "cell_type": "code",
   "execution_count": 69,
   "metadata": {},
   "outputs": [
    {
     "data": {
      "text/plain": [
       "<AxesSubplot:xlabel='J_factor', ylabel='test/wd_mean'>"
      ]
     },
     "execution_count": 69,
     "metadata": {},
     "output_type": "execute_result"
    },
    {
     "data": {
      "image/png": "[encoded data removed]",
      "text/plain": [
       "<Figure size 432x288 with 1 Axes>"
      ]
     },
     "metadata": {
      "needs_background": "light"
     },
     "output_type": "display_data"
    }
   ],
   "source": [
    "sns.violinplot(data=df, y='test/wd_mean', x='J_factor')\n",
    "# sns.violinplot(data=df_single, y='test/wd_single', x='J_factor')"
   ]
  },
  {
   "cell_type": "code",
   "execution_count": 70,
   "metadata": {},
   "outputs": [
    {
     "data": {
      "text/plain": [
       "<AxesSubplot:xlabel='epsilon', ylabel='test/wd_mean'>"
      ]
     },
     "execution_count": 70,
     "metadata": {},
     "output_type": "execute_result"
    },
    {
     "data": {
      "image/png": "[encoded data removed]",
      "text/plain": [
       "<Figure size 432x288 with 1 Axes>"
      ]
     },
     "metadata": {
      "needs_background": "light"
     },
     "output_type": "display_data"
    }
   ],
   "source": [
    "sns.scatterplot(data=df, y='test/wd_mean', x='epsilon', s=100, marker='s')"
   ]
  },
  {
   "cell_type": "code",
   "execution_count": 35,
   "metadata": {},
   "outputs": [
    {
     "data": {
      "text/plain": [
       "<AxesSubplot:xlabel='learning_rate', ylabel='test/wd_mean'>"
      ]
     },
     "execution_count": 35,
     "metadata": {},
     "output_type": "execute_result"
    },
    {
     "data": {
      "image/png": "[encoded data removed]",
      "text/plain": [
       "<Figure size 432x288 with 1 Axes>"
      ]
     },
     "metadata": {
      "needs_background": "light"
     },
     "output_type": "display_data"
    }
   ],
   "source": [
    "sns.scatterplot(data=df, y='test/wd_mean', x='learning_rate', s=100, marker='s')"
   ]
  },
  {
   "cell_type": "code",
   "execution_count": 72,
   "metadata": {},
   "outputs": [
    {
     "data": {
      "text/plain": [
       "<AxesSubplot:xlabel='num_epochs', ylabel='test/wd_single'>"
      ]
     },
     "execution_count": 72,
     "metadata": {},
     "output_type": "execute_result"
    },
    {
     "data": {
      "image/png": "[encoded data removed]",
      "text/plain": [
       "<Figure size 432x288 with 1 Axes>"
      ]
     },
     "metadata": {
      "needs_background": "light"
     },
     "output_type": "display_data"
    }
   ],
   "source": [
    "# sns.boxplot(data=df, y='test/wd_mean', x='num_epochs')\n",
    "sns.boxplot(data=df_single, y='test/wd_single', x='num_epochs')"
   ]
  },
  {
   "cell_type": "code",
   "execution_count": 29,
   "metadata": {},
   "outputs": [
    {
     "data": {
      "image/png": "[encoded data removed]",
      "text/plain": [
       "<Figure size 432x288 with 2 Axes>"
      ]
     },
     "metadata": {
      "needs_background": "light"
     },
     "output_type": "display_data"
    }
   ],
   "source": [
    "import matplotlib\n",
    "import matplotlib.pyplot as plt\n",
    "import numpy as np\n",
    "\n",
    "runs_epochs = np.array([run.config['num_epochs'] for run in runs])\n",
    "runs_dsea_iterations = np.array([run.config['num_dsea_iterations'] for run in runs])\n",
    "runs_wd = np.array([run.summary['test/wd_mean'] for run in runs])\n",
    "\n",
    "plt.scatter(runs_epochs, runs_dsea_iterations, c=runs_wd, s=100, marker='s', norm=matplotlib.colors.LogNorm())\n",
    "plt.xlabel(\"epochs\")\n",
    "plt.ylabel(\"DSEA iterations\")\n",
    "plt.colorbar()\n",
    "plt.show()"
   ]
  },
  {
   "cell_type": "code",
   "execution_count": 30,
   "metadata": {},
   "outputs": [
    {
     "ename": "ValueError",
     "evalue": "arange: cannot compute length",
     "output_type": "error",
     "traceback": [
      "\u001b[0;31m---------------------------------------------------------------------------\u001b[0m",
      "\u001b[0;31mValueError\u001b[0m                                Traceback (most recent call last)",
      "\u001b[1;32m/net/nfshome/home/nweitkemper/BA/z_evaluate_sweep.ipynb Zelle 7\u001b[0m in \u001b[0;36m<cell line: 5>\u001b[0;34m()\u001b[0m\n\u001b[1;32m      <a href='vscode-notebook-cell://ssh-remote%2Be5b-phobos/net/nfshome/home/nweitkemper/BA/z_evaluate_sweep.ipynb#W4sdnNjb2RlLXJlbW90ZQ%3D%3D?line=0'>1</a>\u001b[0m \u001b[39mimport\u001b[39;00m \u001b[39mseaborn\u001b[39;00m \u001b[39mas\u001b[39;00m \u001b[39msns\u001b[39;00m\n\u001b[1;32m      <a href='vscode-notebook-cell://ssh-remote%2Be5b-phobos/net/nfshome/home/nweitkemper/BA/z_evaluate_sweep.ipynb#W4sdnNjb2RlLXJlbW90ZQ%3D%3D?line=2'>3</a>\u001b[0m runs_k \u001b[39m=\u001b[39m np\u001b[39m.\u001b[39marray([run\u001b[39m.\u001b[39msummary\u001b[39m.\u001b[39mget(\u001b[39m'\u001b[39m\u001b[39mk\u001b[39m\u001b[39m'\u001b[39m, np\u001b[39m.\u001b[39mnan) \u001b[39mfor\u001b[39;00m run \u001b[39min\u001b[39;00m runs])\n\u001b[0;32m----> <a href='vscode-notebook-cell://ssh-remote%2Be5b-phobos/net/nfshome/home/nweitkemper/BA/z_evaluate_sweep.ipynb#W4sdnNjb2RlLXJlbW90ZQ%3D%3D?line=4'>5</a>\u001b[0m sns\u001b[39m.\u001b[39mhistplot(runs_k, bins\u001b[39m=\u001b[39mnp\u001b[39m.\u001b[39;49marange(\u001b[39m0\u001b[39;49m, runs_k\u001b[39m.\u001b[39;49mmax()\u001b[39m+\u001b[39;49m\u001b[39m1\u001b[39;49m))\n\u001b[1;32m      <a href='vscode-notebook-cell://ssh-remote%2Be5b-phobos/net/nfshome/home/nweitkemper/BA/z_evaluate_sweep.ipynb#W4sdnNjb2RlLXJlbW90ZQ%3D%3D?line=5'>6</a>\u001b[0m plt\u001b[39m.\u001b[39mxlabel(\u001b[39m\"\u001b[39m\u001b[39mNumber of actual DSEA iterations $k$\u001b[39m\u001b[39m\"\u001b[39m)\n\u001b[1;32m      <a href='vscode-notebook-cell://ssh-remote%2Be5b-phobos/net/nfshome/home/nweitkemper/BA/z_evaluate_sweep.ipynb#W4sdnNjb2RlLXJlbW90ZQ%3D%3D?line=6'>7</a>\u001b[0m plt\u001b[39m.\u001b[39mylabel(\u001b[39m\"\u001b[39m\u001b[39mcount\u001b[39m\u001b[39m\"\u001b[39m)\n",
      "\u001b[0;31mValueError\u001b[0m: arange: cannot compute length"
     ]
    }
   ],
   "source": [
    "import seaborn as sns\n",
    "\n",
    "runs_k = np.array([run.summary.get('k', np.nan) for run in runs])\n",
    "\n",
    "sns.histplot(runs_k, bins=np.arange(0, runs_k.max()+1))\n",
    "plt.xlabel(\"Number of actual DSEA iterations $k$\")\n",
    "plt.ylabel(\"count\")\n",
    "plt.tight_layout()\n",
    "plt.savefig(\"k.pdf\")\n",
    "plt"
   ]
  },
  {
   "cell_type": "code",
   "execution_count": 73,
   "metadata": {},
   "outputs": [
    {
     "ename": "KeyError",
     "evalue": "'wd_test'",
     "output_type": "error",
     "traceback": [
      "\u001b[0;31m---------------------------------------------------------------------------\u001b[0m",
      "\u001b[0;31mKeyError\u001b[0m                                  Traceback (most recent call last)",
      "\u001b[1;32m/net/nfshome/home/nweitkemper/BA/z_evaluate_sweep.ipynb Zelle 13\u001b[0m in \u001b[0;36m<cell line: 1>\u001b[0;34m()\u001b[0m\n\u001b[0;32m----> <a href='vscode-notebook-cell://ssh-remote%2Be5b-phobos/net/nfshome/home/nweitkemper/BA/z_evaluate_sweep.ipynb#W5sdnNjb2RlLXJlbW90ZQ%3D%3D?line=0'>1</a>\u001b[0m my_wd \u001b[39m=\u001b[39m [\u001b[39mdict\u001b[39m(\u001b[39m*\u001b[39m\u001b[39m*\u001b[39mrun\u001b[39m.\u001b[39mconfig, wd_test\u001b[39m=\u001b[39mrun\u001b[39m.\u001b[39msummary[\u001b[39m'\u001b[39m\u001b[39mwd_test\u001b[39m\u001b[39m'\u001b[39m]) \u001b[39mfor\u001b[39;00m run \u001b[39min\u001b[39;00m runs \u001b[39mif\u001b[39;00m run\u001b[39m.\u001b[39mstate \u001b[39m==\u001b[39m \u001b[39m'\u001b[39m\u001b[39mfinished\u001b[39m\u001b[39m'\u001b[39m \u001b[39mand\u001b[39;00m run\u001b[39m.\u001b[39msummary\u001b[39m.\u001b[39mwd_test \u001b[39m<\u001b[39m\u001b[39m=\u001b[39m \u001b[39m0.015\u001b[39m]\n\u001b[1;32m      <a href='vscode-notebook-cell://ssh-remote%2Be5b-phobos/net/nfshome/home/nweitkemper/BA/z_evaluate_sweep.ipynb#W5sdnNjb2RlLXJlbW90ZQ%3D%3D?line=2'>3</a>\u001b[0m \u001b[39m# my_wd2 = {\u001b[39;00m\n\u001b[1;32m      <a href='vscode-notebook-cell://ssh-remote%2Be5b-phobos/net/nfshome/home/nweitkemper/BA/z_evaluate_sweep.ipynb#W5sdnNjb2RlLXJlbW90ZQ%3D%3D?line=3'>4</a>\u001b[0m \u001b[39m#     'wd_test': [run['wd_test'] for run in my_wd],\u001b[39;00m\n\u001b[1;32m      <a href='vscode-notebook-cell://ssh-remote%2Be5b-phobos/net/nfshome/home/nweitkemper/BA/z_evaluate_sweep.ipynb#W5sdnNjb2RlLXJlbW90ZQ%3D%3D?line=4'>5</a>\u001b[0m \u001b[39m#     'J_factor': [run['J_factor'] for run in my_wd],\u001b[39;00m\n\u001b[1;32m      <a href='vscode-notebook-cell://ssh-remote%2Be5b-phobos/net/nfshome/home/nweitkemper/BA/z_evaluate_sweep.ipynb#W5sdnNjb2RlLXJlbW90ZQ%3D%3D?line=5'>6</a>\u001b[0m \u001b[39m# }\u001b[39;00m\n\u001b[1;32m      <a href='vscode-notebook-cell://ssh-remote%2Be5b-phobos/net/nfshome/home/nweitkemper/BA/z_evaluate_sweep.ipynb#W5sdnNjb2RlLXJlbW90ZQ%3D%3D?line=7'>8</a>\u001b[0m my_wd2 \u001b[39m=\u001b[39m {\n\u001b[1;32m      <a href='vscode-notebook-cell://ssh-remote%2Be5b-phobos/net/nfshome/home/nweitkemper/BA/z_evaluate_sweep.ipynb#W5sdnNjb2RlLXJlbW90ZQ%3D%3D?line=8'>9</a>\u001b[0m     key: [run[key] \u001b[39mfor\u001b[39;00m run \u001b[39min\u001b[39;00m my_wd]\n\u001b[1;32m     <a href='vscode-notebook-cell://ssh-remote%2Be5b-phobos/net/nfshome/home/nweitkemper/BA/z_evaluate_sweep.ipynb#W5sdnNjb2RlLXJlbW90ZQ%3D%3D?line=9'>10</a>\u001b[0m     \u001b[39mfor\u001b[39;00m key \u001b[39min\u001b[39;00m my_wd[\u001b[39m0\u001b[39m]\u001b[39m.\u001b[39mkeys()\n\u001b[1;32m     <a href='vscode-notebook-cell://ssh-remote%2Be5b-phobos/net/nfshome/home/nweitkemper/BA/z_evaluate_sweep.ipynb#W5sdnNjb2RlLXJlbW90ZQ%3D%3D?line=10'>11</a>\u001b[0m }\n",
      "\u001b[1;32m/net/nfshome/home/nweitkemper/BA/z_evaluate_sweep.ipynb Zelle 13\u001b[0m in \u001b[0;36m<listcomp>\u001b[0;34m(.0)\u001b[0m\n\u001b[0;32m----> <a href='vscode-notebook-cell://ssh-remote%2Be5b-phobos/net/nfshome/home/nweitkemper/BA/z_evaluate_sweep.ipynb#W5sdnNjb2RlLXJlbW90ZQ%3D%3D?line=0'>1</a>\u001b[0m my_wd \u001b[39m=\u001b[39m [\u001b[39mdict\u001b[39m(\u001b[39m*\u001b[39m\u001b[39m*\u001b[39mrun\u001b[39m.\u001b[39mconfig, wd_test\u001b[39m=\u001b[39mrun\u001b[39m.\u001b[39msummary[\u001b[39m'\u001b[39m\u001b[39mwd_test\u001b[39m\u001b[39m'\u001b[39m]) \u001b[39mfor\u001b[39;00m run \u001b[39min\u001b[39;00m runs \u001b[39mif\u001b[39;00m run\u001b[39m.\u001b[39mstate \u001b[39m==\u001b[39m \u001b[39m'\u001b[39m\u001b[39mfinished\u001b[39m\u001b[39m'\u001b[39m \u001b[39mand\u001b[39;00m run\u001b[39m.\u001b[39;49msummary\u001b[39m.\u001b[39;49mwd_test \u001b[39m<\u001b[39m\u001b[39m=\u001b[39m \u001b[39m0.015\u001b[39m]\n\u001b[1;32m      <a href='vscode-notebook-cell://ssh-remote%2Be5b-phobos/net/nfshome/home/nweitkemper/BA/z_evaluate_sweep.ipynb#W5sdnNjb2RlLXJlbW90ZQ%3D%3D?line=2'>3</a>\u001b[0m \u001b[39m# my_wd2 = {\u001b[39;00m\n\u001b[1;32m      <a href='vscode-notebook-cell://ssh-remote%2Be5b-phobos/net/nfshome/home/nweitkemper/BA/z_evaluate_sweep.ipynb#W5sdnNjb2RlLXJlbW90ZQ%3D%3D?line=3'>4</a>\u001b[0m \u001b[39m#     'wd_test': [run['wd_test'] for run in my_wd],\u001b[39;00m\n\u001b[1;32m      <a href='vscode-notebook-cell://ssh-remote%2Be5b-phobos/net/nfshome/home/nweitkemper/BA/z_evaluate_sweep.ipynb#W5sdnNjb2RlLXJlbW90ZQ%3D%3D?line=4'>5</a>\u001b[0m \u001b[39m#     'J_factor': [run['J_factor'] for run in my_wd],\u001b[39;00m\n\u001b[1;32m      <a href='vscode-notebook-cell://ssh-remote%2Be5b-phobos/net/nfshome/home/nweitkemper/BA/z_evaluate_sweep.ipynb#W5sdnNjb2RlLXJlbW90ZQ%3D%3D?line=5'>6</a>\u001b[0m \u001b[39m# }\u001b[39;00m\n\u001b[1;32m      <a href='vscode-notebook-cell://ssh-remote%2Be5b-phobos/net/nfshome/home/nweitkemper/BA/z_evaluate_sweep.ipynb#W5sdnNjb2RlLXJlbW90ZQ%3D%3D?line=7'>8</a>\u001b[0m my_wd2 \u001b[39m=\u001b[39m {\n\u001b[1;32m      <a href='vscode-notebook-cell://ssh-remote%2Be5b-phobos/net/nfshome/home/nweitkemper/BA/z_evaluate_sweep.ipynb#W5sdnNjb2RlLXJlbW90ZQ%3D%3D?line=8'>9</a>\u001b[0m     key: [run[key] \u001b[39mfor\u001b[39;00m run \u001b[39min\u001b[39;00m my_wd]\n\u001b[1;32m     <a href='vscode-notebook-cell://ssh-remote%2Be5b-phobos/net/nfshome/home/nweitkemper/BA/z_evaluate_sweep.ipynb#W5sdnNjb2RlLXJlbW90ZQ%3D%3D?line=9'>10</a>\u001b[0m     \u001b[39mfor\u001b[39;00m key \u001b[39min\u001b[39;00m my_wd[\u001b[39m0\u001b[39m]\u001b[39m.\u001b[39mkeys()\n\u001b[1;32m     <a href='vscode-notebook-cell://ssh-remote%2Be5b-phobos/net/nfshome/home/nweitkemper/BA/z_evaluate_sweep.ipynb#W5sdnNjb2RlLXJlbW90ZQ%3D%3D?line=10'>11</a>\u001b[0m }\n",
      "File \u001b[0;32m/scratch/nweitkemper/envs/dsea/lib/python3.9/site-packages/wandb/old/summary.py:58\u001b[0m, in \u001b[0;36mSummarySubDict.__getattr__\u001b[0;34m(self, k)\u001b[0m\n\u001b[1;32m     56\u001b[0m     \u001b[39mreturn\u001b[39;00m \u001b[39mobject\u001b[39m\u001b[39m.\u001b[39m\u001b[39m__getattribute__\u001b[39m(\u001b[39mself\u001b[39m, k)\n\u001b[1;32m     57\u001b[0m \u001b[39melse\u001b[39;00m:\n\u001b[0;32m---> 58\u001b[0m     \u001b[39mreturn\u001b[39;00m \u001b[39mself\u001b[39;49m[k]\n",
      "File \u001b[0;32m/scratch/nweitkemper/envs/dsea/lib/python3.9/site-packages/wandb/old/summary.py:112\u001b[0m, in \u001b[0;36mSummarySubDict.__getitem__\u001b[0;34m(self, k)\u001b[0m\n\u001b[1;32m    109\u001b[0m     k \u001b[39m=\u001b[39m k\u001b[39m.\u001b[39mstrip()\n\u001b[1;32m    111\u001b[0m \u001b[39mself\u001b[39m\u001b[39m.\u001b[39mget(k)  \u001b[39m# load the value into _dict if it should be there\u001b[39;00m\n\u001b[0;32m--> 112\u001b[0m res \u001b[39m=\u001b[39m \u001b[39mself\u001b[39;49m\u001b[39m.\u001b[39;49m_dict[k]\n\u001b[1;32m    114\u001b[0m \u001b[39mreturn\u001b[39;00m res\n",
      "\u001b[0;31mKeyError\u001b[0m: 'wd_test'"
     ]
    }
   ],
   "source": [
    "my_wd = [dict(**run.config, wd_test=run.summary['wd_test']) for run in runs if run.state == 'finished' and run.summary.wd_test <= 0.015]\n",
    "\n",
    "# my_wd2 = {\n",
    "#     'wd_test': [run['wd_test'] for run in my_wd],\n",
    "#     'J_factor': [run['J_factor'] for run in my_wd],\n",
    "# }\n",
    "\n",
    "my_wd2 = {\n",
    "    key: [run[key] for run in my_wd]\n",
    "    for key in my_wd[0].keys()\n",
    "}\n",
    "\n",
    "# sns.histplot(wd_per_J_factor, stat=\"percent\", common_norm=False, multiple=\"stack\", shrink=.8)\n",
    "sns.violinplot(data=my_wd2, x='J_factor', y='wd_test')\n",
    "# sns.violinplot(data=my_wd2, x='num_dsea_iterations', y='wd_test')\n",
    "plt.xlabel(\"J_factor\")\n",
    "plt.ylabel(\"Wasserstein distance\")\n",
    "# plt.savefig(\"wd_per_J_factor.pdf\")\n",
    "plt\n"
   ]
  },
  {
   "cell_type": "code",
   "execution_count": 8,
   "metadata": {},
   "outputs": [],
   "source": [
    "sweep_fixweighting = api.sweep(f\"nicoweio/dsea-corn/qwvk5wcy\")\n",
    "\n",
    "wd_per_fixweighting = {key: np.array([run.summary.get('wd_test', np.nan) for run in sweep_fixweighting.runs if run.state == 'finished' and run.config['fixweighting'] == key]) for key in ['always', 'iter', 'never']}"
   ]
  },
  {
   "cell_type": "code",
   "execution_count": 9,
   "metadata": {},
   "outputs": [
    {
     "data": {
      "text/plain": [
       "<module 'matplotlib.pyplot' from '/scratch/nweitkemper/envs/dsea/lib/python3.9/site-packages/matplotlib/pyplot.py'>"
      ]
     },
     "execution_count": 9,
     "metadata": {},
     "output_type": "execute_result"
    },
    {
     "data": {
      "image/png": "[encoded data removed]",
      "text/plain": [
       "<Figure size 432x288 with 1 Axes>"
      ]
     },
     "metadata": {
      "needs_background": "light"
     },
     "output_type": "display_data"
    }
   ],
   "source": [
    "sns.histplot(wd_per_fixweighting, stat=\"percent\", common_norm=False, multiple=\"dodge\", shrink=.8)\n",
    "plt.xlabel(\"Wasserstein distance\")\n",
    "plt.savefig(\"wd_per_fixweighting.pdf\")\n",
    "plt"
   ]
  },
  {
   "cell_type": "code",
   "execution_count": null,
   "metadata": {},
   "outputs": [],
   "source": []
  }
 ],
 "metadata": {
  "kernelspec": {
   "display_name": "Python 3.9.12 ('dsea')",
   "language": "python",
   "name": "python3"
  },
  "language_info": {
   "codemirror_mode": {
    "name": "ipython",
    "version": 3
   },
   "file_extension": ".py",
   "mimetype": "text/x-python",
   "name": "python",
   "nbconvert_exporter": "python",
   "pygments_lexer": "ipython3",
   "version": "3.9.12"
  },
  "orig_nbformat": 4,
  "vscode": {
   "interpreter": {
    "hash": "8302970b9193ca5caea6545e500a3498d00ef5937330c7ec55d44f1fd20fd525"
   }
  }
 },
 "nbformat": 4,
 "nbformat_minor": 2
}
